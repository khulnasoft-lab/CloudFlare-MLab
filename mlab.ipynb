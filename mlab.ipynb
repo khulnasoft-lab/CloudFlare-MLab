import pandas as pd
import warnings
warnings.filterwarnings('ignore')

## gives Colab access to your Google credentials
## You should be signed up for M-Lab's discuss@ to get access to BigQuery for this to work
from google.colab import auth
auth.authenticate_user()

from google.cloud import bigquery
from google.colab import data_table

project_id = 'measurement-lab'
client = bigquery.Client(project=project_id)
query = '''
SELECT
 *
FROM `measurement-lab.cloudflare.speedtest_speed1`
WHERE
  date >= "2022-10-01" AND date <= "2022-10-31"
  AND clientCity = "New York"
  AND clientCountry = "US"
'''

df = client.query(query).to_dataframe()
df.head()

project_id = 'measurement-lab'
client = bigquery.Client(project=project_id)
query = '''
SELECT
  a.UUID,
  TIMESTAMP_TRUNC(a.TestTime,DAY) as TestDay,
  a.MeanThroughputMbps,
  a.MinRTT,
  a.LossRate,
  client.Geo.city as ClientCity,
  client.Geo.Subdivision1Name as ClientRegion,
  client.Network.ASNumber as ClientASNumber,
  client.Network.ASName as ClientASName,
  server.Geo.City as ServerCity,
  server.Site as ServerSite,
  server.Machine as ServerMachine,
  server.Network.ASNumber as ServerASNumber,
  server.Network.ASName as ServerASName,
FROM
  `measurement-lab.ndt.unified_downloads`
WHERE
  date >= "2022-10-03" AND date <= "2022-10-10"
  AND client.Geo.city = "New York"
  AND client.Geo.CountryCode = "US"
'''

df = client.query(query).to_dataframe()
df.head()
