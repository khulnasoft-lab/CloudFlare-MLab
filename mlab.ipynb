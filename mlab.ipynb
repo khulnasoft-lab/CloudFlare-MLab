{
  "cells":[
  {
    "cell_type": "markdown",
    "id": "cafd22b6",
    "metadata": {},
    "source": [
      "# 2016-200\n",
      "---"
    ],
  },
  "outputs": [],
  "source": [
    "import pandas as pd\n",
    "import warnings\n",
    "warnings.filterwarnings('ignore')\n",

